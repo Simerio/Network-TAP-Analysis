{
 "cells": [
  {
   "cell_type": "markdown",
   "id": "5bdc0436",
   "metadata": {
    "slideshow": {
     "slide_type": "slide"
    }
   },
   "source": [
    "# Ne(TAP)work-Analysis"
   ]
  },
  {
   "cell_type": "markdown",
   "id": "53e85a28",
   "metadata": {
    "slideshow": {
     "slide_type": "slide"
    }
   },
   "source": [
    "# Introduzione"
   ]
  },
  {
   "cell_type": "markdown",
   "id": "60e4a911",
   "metadata": {
    "slideshow": {
     "slide_type": "subslide"
    }
   },
   "source": [
    "L'idea di questo progetto è quella di creare una data pipeline in real-time, sniffando i pacchetti della propria rete locale per monitorare le abitudini "
   ]
  },
  {
   "cell_type": "markdown",
   "id": "cccf3978",
   "metadata": {
    "slideshow": {
     "slide_type": "slide"
    }
   },
   "source": [
    "# Pipeline"
   ]
  },
  {
   "cell_type": "markdown",
   "id": "8ac15e8b",
   "metadata": {
    "slideshow": {
     "slide_type": "slide"
    }
   },
   "source": [
    "<ul>\n",
    "  <li>Data source: Wireshark</li>\n",
    "  <li>Data ingestion: Logstash</li>\n",
    "  <li>Data streaming: Kafka</li>\n",
    "  <li>Data processing: Spark</li>\n",
    "  <li>Data storage: Elasticsearch</li>\n",
    "  <li>Data visualization: Kibana</li>\n",
    "</ul>"
   ]
  },
  {
   "cell_type": "markdown",
   "id": "e983d6e5",
   "metadata": {
    "slideshow": {
     "slide_type": "slide"
    }
   },
   "source": [
    " # Wireshark (Tshark)"
   ]
  },
  {
   "cell_type": "markdown",
   "id": "4035c604",
   "metadata": {
    "slideshow": {
     "slide_type": "slide"
    }
   },
   "source": [
    "# Logstash\n",
    "\n",
    "<img style=\"float: left;\" src=\"images/logstash3.png\" width=\"50%\"> "
   ]
  },
  {
   "cell_type": "markdown",
   "id": "1c5416eb",
   "metadata": {
    "slideshow": {
     "slide_type": "slide"
    }
   },
   "source": [
    "## Centralizza, trasforma e conserva i tuoi dati"
   ]
  },
  {
   "cell_type": "markdown",
   "id": "e59642f2",
   "metadata": {
    "slideshow": {
     "slide_type": "subslide"
    }
   },
   "source": [
    "Logstash è una pipeline gratuita e aperta per l'elaborazione dei dati lato server che ingerisce i dati da una moltitudine di fonti, li trasforma e poi li invia al tuo \"stash\" preferito."
   ]
  },
  {
   "cell_type": "markdown",
   "id": "c5894200",
   "metadata": {
    "slideshow": {
     "slide_type": "fragment"
    }
   },
   "source": [
    "L'utilizzo di Logstash per questa pipeline è fonfamentale, perché grazie alla sua potenza, con semplicità riusciamo a raccogliere una grandissima quantità di pacchetti .pcap catturati da wireshark per poi incanalarli in molteplici output tra cui Kafka per lo streaming e stdout per avere una sorta di log.\n",
    "\n",
    "Inoltre con Logstash si ha la possibilità di filtare ed arricchire i dati in ingresso."
   ]
  },
  {
   "cell_type": "markdown",
   "id": "dc9659db",
   "metadata": {
    "slideshow": {
     "slide_type": "subslide"
    }
   },
   "source": [
    "<img style=\"float: left;\" src=\"images/logstash_code.png\" width=\"50%\"> "
   ]
  },
  {
   "cell_type": "markdown",
   "id": "ad32bf93",
   "metadata": {
    "slideshow": {
     "slide_type": "slide"
    }
   },
   "source": [
    "<img style=\"float: left;\" src=\"images/kafka3.png\" width=\"60%\"> "
   ]
  },
  {
   "cell_type": "markdown",
   "id": "b98931ab",
   "metadata": {
    "slideshow": {
     "slide_type": "slide"
    }
   },
   "source": [
    "Apache Kafka è una piattaforma open-source di streaming di eventi distribuiti utilizzata da migliaia di aziende per pipeline di dati ad alte prestazioni, analisi in streaming, integrazione dei dati e applicazioni mission-critical."
   ]
  },
  {
   "cell_type": "markdown",
   "id": "9b6de27c",
   "metadata": {
    "slideshow": {
     "slide_type": "fragment"
    }
   },
   "source": [
    "Utilizziamo kafka solo per allungare il brodo e con spark si abbinano perfettamente hahahhahaha"
   ]
  },
  {
   "cell_type": "markdown",
   "id": "7b8f094a",
   "metadata": {
    "slideshow": {
     "slide_type": "slide"
    }
   },
   "source": [
    "<img style=\"float: left;\" src=\"images/spark.png\" width=\"60%\"> "
   ]
  },
  {
   "cell_type": "markdown",
   "id": "bdfd4a09",
   "metadata": {
    "slideshow": {
     "slide_type": "slide"
    }
   },
   "source": [
    "## Lightning-fast unified analytics engine"
   ]
  },
  {
   "cell_type": "markdown",
   "id": "7311400a",
   "metadata": {
    "slideshow": {
     "slide_type": "subslide"
    }
   },
   "source": [
    "### Speed\n",
    "Esegui i carichi di lavoro 100 volte più velocemente. Apache Spark raggiunge alte prestazioni sia per i dati in batch che in streaming, utilizzando uno scheduler DAG all'avanguardia, un ottimizzatore di query e un motore di esecuzione fisica."
   ]
  },
  {
   "cell_type": "markdown",
   "id": "be258f08",
   "metadata": {
    "slideshow": {
     "slide_type": "fragment"
    }
   },
   "source": [
    "### Ease of Use\n",
    "Scrivi velocemente applicazioni in Java, Scala, Python, R e SQL. Spark offre oltre 80 operatori di alto livello che rendono facile costruire applicazioni parallele. E puoi usarlo interattivamente dalle shell di Scala, Python, R e SQL."
   ]
  },
  {
   "cell_type": "markdown",
   "id": "91e27ac4",
   "metadata": {
    "slideshow": {
     "slide_type": "fragment"
    }
   },
   "source": [
    "### Generality\n",
    "Combina SQL, streaming e analisi complesse.\n",
    "### Runs Everywhere"
   ]
  },
  {
   "cell_type": "markdown",
   "id": "afb9f949",
   "metadata": {
    "slideshow": {
     "slide_type": "slide"
    }
   },
   "source": [
    "<img style=\"float: left;\" src=\"images/elastic2.png\"> "
   ]
  },
  {
   "cell_type": "markdown",
   "id": "64de3acd",
   "metadata": {
    "slideshow": {
     "slide_type": "slide"
    }
   },
   "source": [
    "Elasticsearch è un motore di ricerca e analisi distribuito e RESTful in grado di affrontare un numero crescente di casi d'uso. Come cuore dell'Elastic Stack, memorizza centralmente i tuoi dati per una ricerca veloce come un fulmine, una pertinenza regolata con precisione e potenti analisi che si scalano con facilità."
   ]
  },
  {
   "cell_type": "markdown",
   "id": "5993bb0d",
   "metadata": {
    "slideshow": {
     "slide_type": "slide"
    }
   },
   "source": [
    "<img style=\"float: left;\" src=\"images/kibana.png\"> "
   ]
  },
  {
   "cell_type": "markdown",
   "id": "8b4fb3ee",
   "metadata": {
    "slideshow": {
     "slide_type": "slide"
    }
   },
   "source": [
    "## La tua finestra sull'Elastic Stack"
   ]
  },
  {
   "cell_type": "markdown",
   "id": "48ec8fbf",
   "metadata": {
    "slideshow": {
     "slide_type": "subslide"
    }
   },
   "source": [
    "Kibana è un'interfaccia utente gratuita e aperta che ti permette di visualizzare i tuoi dati Elasticsearch e navigare nell'Elastic Stack. Fai qualsiasi cosa, dal monitoraggio del carico delle query alla comprensione del modo in cui le richieste fluiscono attraverso le tue app."
   ]
  },
  {
   "cell_type": "markdown",
   "id": "7b93c4be",
   "metadata": {
    "slideshow": {
     "slide_type": "slide"
    }
   },
   "source": [
    "# DEMO"
   ]
  },
  {
   "cell_type": "markdown",
   "id": "480f90b9",
   "metadata": {
    "slideshow": {
     "slide_type": "slide"
    }
   },
   "source": [
    "# FINE"
   ]
  }
 ],
 "metadata": {
  "celltoolbar": "Slideshow",
  "kernelspec": {
   "display_name": "Python 3 (ipykernel)",
   "language": "python",
   "name": "python3"
  },
  "language_info": {
   "codemirror_mode": {
    "name": "ipython",
    "version": 3
   },
   "file_extension": ".py",
   "mimetype": "text/x-python",
   "name": "python",
   "nbconvert_exporter": "python",
   "pygments_lexer": "ipython3",
   "version": "3.9.5"
  },
  "rise": {
   "theme": "serif"
  }
 },
 "nbformat": 4,
 "nbformat_minor": 5
}
