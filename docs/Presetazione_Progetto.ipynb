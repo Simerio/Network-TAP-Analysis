{
 "cells": [
  {
   "cell_type": "markdown",
   "id": "5bdc0436",
   "metadata": {
    "slideshow": {
     "slide_type": "slide"
    }
   },
   "source": [
    "# Ne(TAP)work-Analysis"
   ]
  },
  {
   "cell_type": "markdown",
   "id": "53e85a28",
   "metadata": {
    "slideshow": {
     "slide_type": "slide"
    }
   },
   "source": [
    "# Introduzione"
   ]
  },
  {
   "cell_type": "markdown",
   "id": "60e4a911",
   "metadata": {
    "slideshow": {
     "slide_type": "subslide"
    }
   },
   "source": [
    "L'idea di questo progetto è quella di creare una data pipeline in real-time, sniffando i pacchetti della propria rete locale per monitorare le abitudini dell'utente tracciando i siti visitati e facendo una predizione sul consumo dei pacchetti nel futuro prossimo."
   ]
  },
  {
   "cell_type": "markdown",
   "id": "cccf3978",
   "metadata": {
    "slideshow": {
     "slide_type": "slide"
    }
   },
   "source": [
    "# Pipeline\n",
    "<div>\n",
    "    <img style=\"float: left;\" src=\"images/pipeline_png.png\" width=\"50%\"> \n",
    "    <ul style=\"float: center; padding-top: 150px; padding-left: 250px;\">\n",
    "        <li>Data source: <span style=\"color: #1B85D4\">Wireshark</span></li>\n",
    "        <li>Data ingestion: <span style=\"color: #D74FA9\">Logstash</span></li>\n",
    "        <li>Data streaming: <span style=\"color: #D8A112\">Kafka</span></li>\n",
    "        <li>Data processing: <span style=\"color: #60D15A\">Spark</span></li>\n",
    "        <li>Data storage: <span style=\"color: #D74FA9\">Elasticsearch</span></li>\n",
    "        <li>Data visualization: <span style=\"color: #D74FA9\">Kibana</span></li>\n",
    "    </ul>\n",
    "</div>"
   ]
  },
  {
   "cell_type": "markdown",
   "id": "e983d6e5",
   "metadata": {
    "slideshow": {
     "slide_type": "slide"
    }
   },
   "source": [
    " # Wireshark (Tshark)\n",
    "<img style=\"float: left;\" src=\"images/wireshark.png\" width=\"30%\"> "
   ]
  },
  {
   "cell_type": "markdown",
   "id": "80d1c6cd",
   "metadata": {
    "slideshow": {
     "slide_type": "slide"
    }
   },
   "source": [
    "Wireshark è un packet sniffer utilizzato per l'analisi della rete. "
   ]
  },
  {
   "cell_type": "markdown",
   "id": "799d96e1",
   "metadata": {
    "slideshow": {
     "slide_type": "fragment"
    }
   },
   "source": [
    "È simile a tcpdump ma è dotato di un'interfaccia grafica, ed è più avanzato poichè dotato di filtri."
   ]
  },
  {
   "cell_type": "markdown",
   "id": "8addfa16",
   "metadata": {
    "slideshow": {
     "slide_type": "fragment"
    }
   },
   "source": [
    "Abbiamo utilizzato la versione da command line (Tshark) per loggare alcuni dati dei pacchetti catturati su file. "
   ]
  },
  {
   "cell_type": "markdown",
   "id": "26967d3d",
   "metadata": {
    "slideshow": {
     "slide_type": "subslide"
    }
   },
   "source": [
    "<img style=\"float: center;\" src=\"images/meme1.jpg\" width=\"30%\"> "
   ]
  },
  {
   "cell_type": "markdown",
   "id": "4035c604",
   "metadata": {
    "slideshow": {
     "slide_type": "slide"
    }
   },
   "source": [
    "# Logstash\n",
    "\n",
    "<img style=\"float: left;\" src=\"images/logstash3.png\" width=\"50%\"> "
   ]
  },
  {
   "cell_type": "markdown",
   "id": "1c5416eb",
   "metadata": {
    "slideshow": {
     "slide_type": "slide"
    }
   },
   "source": [
    "## Centralizza, trasforma e conserva i tuoi dati"
   ]
  },
  {
   "cell_type": "markdown",
   "id": "e59642f2",
   "metadata": {
    "slideshow": {
     "slide_type": "subslide"
    }
   },
   "source": [
    "Logstash è una pipeline gratuita e aperta per l'elaborazione dei dati lato server che ingerisce i dati da una moltitudine di fonti, li trasforma e poi li invia al tuo \"stash\" preferito."
   ]
  },
  {
   "cell_type": "markdown",
   "id": "c5894200",
   "metadata": {
    "slideshow": {
     "slide_type": "fragment"
    }
   },
   "source": [
    "L'utilizzo di Logstash per questa pipeline è fonfamentale, perché grazie alla sua potenza, con semplicità riusciamo a raccogliere una grandissima quantità di pacchetti catturati da wireshark per poi incanalarli in molteplici output tra cui Kafka per lo streaming e stdout per avere una sorta di log."
   ]
  },
  {
   "cell_type": "markdown",
   "id": "14fcd2f9",
   "metadata": {
    "slideshow": {
     "slide_type": "fragment"
    }
   },
   "source": [
    "Inoltre con Logstash si ha la possibilità di filtare ed arricchire i dati in ingresso.\n",
    "Nel nostro caso abbiamo aggiunto il filtro geoip per ottenere latitudine e longitudine di un ip."
   ]
  },
  {
   "cell_type": "markdown",
   "id": "a1aafa3f",
   "metadata": {
    "slideshow": {
     "slide_type": "subslide"
    }
   },
   "source": [
    "``` json\n",
    "input {\n",
    "  file {\n",
    "    path => \"/usr/share/logstash/pcap/pcap.csv\"\n",
    "    start_position => \"beginning\"\n",
    "  }\n",
    "}\n",
    "\n",
    "filter {\n",
    "  csv {\n",
    "    source => \"message\"\n",
    "    columns => [ \"timestamp\", \"ip_src\", \"hostname\", \"port\"]\n",
    "  }\n",
    "  \n",
    "  date {\n",
    "    match => [ \"timestamp\", \"UNIX\" ]\n",
    "  } \n",
    "  geoip {\n",
    "    source => \"hostname\"\n",
    "    fields => [\"dma_code\", \"continent_code\",\"country_name\",\"city_name\",\"country_code2\",\"location\",\"ip\",\"region_name\"] \n",
    "  }\n",
    "  dns {\n",
    "    reverse => [ \"hostname\" ]\n",
    "    action => \"replace\"\n",
    "  }\n",
    "\n",
    "  mutate {\n",
    "    convert => [ \"port\", \"integer\" ]\n",
    "    remove_field => [\"timestamp\", \"@version\", \"message\", \"host\", \"path\"]\n",
    "  }\n",
    "}\n",
    "\n",
    "output {\n",
    "  kafka {\n",
    "    codec => json\n",
    "    topic_id => \"tap\"\n",
    "    bootstrap_servers => \"kafkaserver:9092\"\n",
    "  }\n",
    "  stdout {}\n",
    "}\n",
    "```"
   ]
  },
  {
   "cell_type": "markdown",
   "id": "ad32bf93",
   "metadata": {
    "slideshow": {
     "slide_type": "slide"
    }
   },
   "source": [
    "<img style=\"float: left;\" src=\"images/kafka3.png\" width=\"60%\"> "
   ]
  },
  {
   "cell_type": "markdown",
   "id": "b98931ab",
   "metadata": {
    "slideshow": {
     "slide_type": "slide"
    }
   },
   "source": [
    "Apache Kafka è una piattaforma open-source di streaming di eventi distribuiti utilizzata da migliaia di aziende per pipeline di dati ad alte prestazioni, analisi in streaming, integrazione dei dati e applicazioni mission-critical."
   ]
  },
  {
   "cell_type": "markdown",
   "id": "9b6de27c",
   "metadata": {
    "slideshow": {
     "slide_type": "fragment"
    }
   },
   "source": [
    "L'utilizzo di Kafka è fondamentale per mettere in comunicazione Logstash e Spark."
   ]
  },
  {
   "cell_type": "markdown",
   "id": "b5d6e205",
   "metadata": {
    "slideshow": {
     "slide_type": "fragment"
    }
   },
   "source": [
    "Abbiamo utilizzato anche Kafka UI per accertarci che la pipeline funzionasse."
   ]
  },
  {
   "cell_type": "markdown",
   "id": "8795d516",
   "metadata": {
    "slideshow": {
     "slide_type": "subslide"
    }
   },
   "source": [
    "<img style=\"float: left;\" src=\"images/meme2.jpg\" width=\"25%\"> "
   ]
  },
  {
   "cell_type": "markdown",
   "id": "7b8f094a",
   "metadata": {
    "slideshow": {
     "slide_type": "slide"
    }
   },
   "source": [
    "<img style=\"float: left;\" src=\"images/spark.png\" width=\"60%\"> "
   ]
  },
  {
   "cell_type": "markdown",
   "id": "bdfd4a09",
   "metadata": {
    "slideshow": {
     "slide_type": "slide"
    }
   },
   "source": [
    "## Lightning-fast unified analytics engine"
   ]
  },
  {
   "cell_type": "markdown",
   "id": "7311400a",
   "metadata": {
    "slideshow": {
     "slide_type": "subslide"
    }
   },
   "source": [
    "### Speed\n",
    "Esegui i carichi di lavoro 100 volte più velocemente. Apache Spark raggiunge alte prestazioni sia per i dati in batch che in streaming, utilizzando uno scheduler DAG all'avanguardia, un ottimizzatore di query e un motore di esecuzione fisica."
   ]
  },
  {
   "cell_type": "markdown",
   "id": "be258f08",
   "metadata": {
    "slideshow": {
     "slide_type": "fragment"
    }
   },
   "source": [
    "### Ease of Use\n",
    "Scrivi velocemente applicazioni in Java, Scala, Python, R e SQL. Spark offre oltre 80 operatori di alto livello che rendono facile costruire applicazioni parallele. E puoi usarlo interattivamente dalle shell di Scala, Python, R e SQL."
   ]
  },
  {
   "cell_type": "markdown",
   "id": "91e27ac4",
   "metadata": {
    "slideshow": {
     "slide_type": "fragment"
    }
   },
   "source": [
    "### Generality\n",
    "Combina SQL, streaming e analisi complesse.\n",
    "### Runs Everywhere"
   ]
  },
  {
   "cell_type": "markdown",
   "id": "2ad4e5b1",
   "metadata": {
    "slideshow": {
     "slide_type": "subslide"
    }
   },
   "source": [
    "# Ease of use?!?!\n",
    "<img style=\"float: left;\" src=\"images/meme3.jpg\" width=\"40%\"> "
   ]
  },
  {
   "cell_type": "markdown",
   "id": "31b431a5",
   "metadata": {
    "slideshow": {
     "slide_type": "subslide"
    }
   },
   "source": [
    "# Machine Learning in Spark"
   ]
  },
  {
   "cell_type": "markdown",
   "id": "cbbd184c",
   "metadata": {
    "slideshow": {
     "slide_type": "subslide"
    }
   },
   "source": [
    "<img style=\"float: left;\" src=\"images/meme4.jpg\" width=\"30%\"> "
   ]
  },
  {
   "cell_type": "markdown",
   "id": "608506ba",
   "metadata": {
    "slideshow": {
     "slide_type": "subslide"
    }
   },
   "source": [
    "Per la predizione dei pacchetti ci siamo affidati ai DataFrame di pandas e al regressore lineare della libreria Scikit-Learn."
   ]
  },
  {
   "cell_type": "markdown",
   "id": "afb9f949",
   "metadata": {
    "slideshow": {
     "slide_type": "slide"
    }
   },
   "source": [
    "<img style=\"float: left;\" src=\"images/elastic2.png\"> "
   ]
  },
  {
   "cell_type": "markdown",
   "id": "64de3acd",
   "metadata": {
    "slideshow": {
     "slide_type": "slide"
    }
   },
   "source": [
    "Elasticsearch è un motore di ricerca e analisi distribuito e RESTful. Come cuore dell'Elastic Stack, memorizza centralmente una grande quantità di dati pur garantendo una ricerca veloce come un fulmine, una pertinenza regolata con precisione e potenti analisi che si scalano con facilità."
   ]
  },
  {
   "cell_type": "markdown",
   "id": "5993bb0d",
   "metadata": {
    "slideshow": {
     "slide_type": "slide"
    }
   },
   "source": [
    "<img style=\"float: left;\" src=\"images/kibana.png\"> "
   ]
  },
  {
   "cell_type": "markdown",
   "id": "8b4fb3ee",
   "metadata": {
    "slideshow": {
     "slide_type": "slide"
    }
   },
   "source": [
    "## La tua finestra sull'Elastic Stack"
   ]
  },
  {
   "cell_type": "markdown",
   "id": "48ec8fbf",
   "metadata": {
    "slideshow": {
     "slide_type": "fragment"
    }
   },
   "source": [
    "Kibana è un'interfaccia utente gratuita e aperta che ti permette di visualizzare i tuoi dati Elasticsearch e navigare nell'Elastic Stack. Fai qualsiasi cosa, dal monitoraggio del carico delle query alla comprensione del modo in cui le richieste fluiscono attraverso le tue app."
   ]
  },
  {
   "cell_type": "markdown",
   "id": "ac114e56",
   "metadata": {
    "slideshow": {
     "slide_type": "fragment"
    }
   },
   "source": [
    "Nel nostro caso Kibana è fondamentale per la visualizzazione di una mappa dettagliata con le posizioni geografiche dei vari ip e anche per la visualizzazione delle predizioni sul numero dei pacchetti futuri."
   ]
  },
  {
   "cell_type": "markdown",
   "id": "7b93c4be",
   "metadata": {
    "slideshow": {
     "slide_type": "slide"
    }
   },
   "source": [
    "# DEMO"
   ]
  },
  {
   "cell_type": "markdown",
   "id": "68c83601",
   "metadata": {
    "slideshow": {
     "slide_type": "fragment"
    }
   },
   "source": [
    "Per avviare la demo bisogna:\n",
    "\n",
    " - Uppare il docker-compose\n",
    " - Avviare lo script run.sh che si trova all'interno della cartella logstash"
   ]
  },
  {
   "cell_type": "markdown",
   "id": "0d97afd6",
   "metadata": {
    "slideshow": {
     "slide_type": "fragment"
    }
   },
   "source": [
    "Link utili:\n",
    " \n",
    " - http://localhost:5601 (Kibana)\n",
    " - http://localhost:8080 (Kafka-UI)\n",
    " - http://localhost:4040 (Spark)"
   ]
  },
  {
   "cell_type": "markdown",
   "id": "a386be06",
   "metadata": {
    "slideshow": {
     "slide_type": "slide"
    }
   },
   "source": [
    "# Ringraziamenti"
   ]
  },
  {
   "cell_type": "markdown",
   "id": "d3b80146",
   "metadata": {
    "slideshow": {
     "slide_type": "fragment"
    }
   },
   "source": [
    "<img style=\"float: left;\" src=\"images/meme5.jpg\" width=\"40%\"> \n",
    "<img style=\"float: right;\" src=\"images/meme6.jpg\" width=\"37%\"> "
   ]
  },
  {
   "cell_type": "markdown",
   "id": "480f90b9",
   "metadata": {
    "slideshow": {
     "slide_type": "subslide"
    }
   },
   "source": [
    "<center><h1>FINE</h1></center>\n",
    "\n",
    "###### Credits: Simone Benedetto, Valerio Catania."
   ]
  }
 ],
 "metadata": {
  "celltoolbar": "Slideshow",
  "kernelspec": {
   "display_name": "Python 3 (ipykernel)",
   "language": "python",
   "name": "python3"
  },
  "language_info": {
   "codemirror_mode": {
    "name": "ipython",
    "version": 3
   },
   "file_extension": ".py",
   "mimetype": "text/x-python",
   "name": "python",
   "nbconvert_exporter": "python",
   "pygments_lexer": "ipython3",
   "version": "3.9.5"
  },
  "rise": {
   "theme": "serif"
  }
 },
 "nbformat": 4,
 "nbformat_minor": 5
}
