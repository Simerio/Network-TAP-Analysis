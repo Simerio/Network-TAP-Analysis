{
 "cells": [
  {
   "cell_type": "markdown",
   "source": [
    "# Ne(TAP)work-Analysis"
   ],
   "metadata": {
    "slideshow": {
     "slide_type": "slide"
    }
   }
  },
  {
   "cell_type": "markdown",
   "source": [
    "# Introduzione"
   ],
   "metadata": {
    "slideshow": {
     "slide_type": "slide"
    }
   }
  },
  {
   "cell_type": "markdown",
   "source": [
    "L'idea di questo progetto è quella di creare una data pipeline in real-time, sniffando i pacchetti della propria rete locale per monitorare le abitudini dell'utente tracciando i siti visitati e facendo una predizione sul consumo dei pacchetti nel futuro prossimo."
   ],
   "metadata": {
    "slideshow": {
     "slide_type": "subslide"
    }
   }
  },
  {
   "cell_type": "markdown",
   "source": [
    "# Pipeline\n",
    "<div>\n",
    "    <img style=\"float: left;\" src=\"images/pipeline_png.png\" width=\"50%\"> \n",
    "    <ul style=\"float: center; padding-top: 150px; padding-left: 250px;\">\n",
    "        <li>Data source: <span style=\"color: #1B85D4\">Wireshark</span></li>\n",
    "        <li>Data ingestion: <span style=\"color: #D74FA9\">Logstash</span></li>\n",
    "        <li>Data streaming: <span style=\"color: #D8A112\">Kafka</span></li>\n",
    "        <li>Data processing: <span style=\"color: #60D15A\">Spark</span></li>\n",
    "        <li>Data storage: <span style=\"color: #D74FA9\">Elasticsearch</span></li>\n",
    "        <li>Data visualization: <span style=\"color: #D74FA9\">Kibana</span></li>\n",
    "    </ul>\n",
    "</div>"
   ],
   "metadata": {
    "slideshow": {
     "slide_type": "slide"
    }
   }
  },
  {
   "cell_type": "markdown",
   "source": [
    " # Wireshark (Tshark)\n",
    "<img style=\"float: left;\" src=\"images/wireshark.png\" width=\"30%\"> "
   ],
   "metadata": {
    "slideshow": {
     "slide_type": "slide"
    }
   }
  },
  {
   "cell_type": "markdown",
   "source": [
    "Wireshark è un packet sniffer utilizzato per l'analisi della rete. "
   ],
   "metadata": {
    "slideshow": {
     "slide_type": "slide"
    }
   }
  },
  {
   "cell_type": "markdown",
   "source": [
    "È simile a tcpdump ma è dotato di un'interfaccia grafica, ed è più avanzato poichè dotato di filtri."
   ],
   "metadata": {
    "slideshow": {
     "slide_type": "fragment"
    }
   }
  },
  {
   "cell_type": "markdown",
   "source": [
    "Abbiamo utilizzato la versione da command line (Tshark) per loggare alcuni dati dei pacchetti catturati su file. "
   ],
   "metadata": {
    "slideshow": {
     "slide_type": "fragment"
    }
   }
  },
  {
   "cell_type": "markdown",
   "source": [
    "<img style=\"float: center;\" src=\"images/meme1.jpg\" width=\"30%\"> "
   ],
   "metadata": {
    "slideshow": {
     "slide_type": "subslide"
    }
   }
  },
  {
   "cell_type": "markdown",
   "source": [
    "# Logstash\n",
    "\n",
    "<img style=\"float: left;\" src=\"images/logstash3.png\" width=\"50%\"> "
   ],
   "metadata": {
    "slideshow": {
     "slide_type": "slide"
    }
   }
  },
  {
   "cell_type": "markdown",
   "source": [
    "## Centralizza, trasforma e conserva i tuoi dati"
   ],
   "metadata": {
    "slideshow": {
     "slide_type": "slide"
    }
   }
  },
  {
   "cell_type": "markdown",
   "source": [
    "Logstash è una pipeline gratuita e aperta per l'elaborazione dei dati lato server che ingerisce i dati da una moltitudine di fonti, li trasforma e poi li invia al tuo \"stash\" preferito."
   ],
   "metadata": {
    "slideshow": {
     "slide_type": "subslide"
    }
   }
  },
  {
   "cell_type": "markdown",
   "source": [
    "L'utilizzo di Logstash per questa pipeline è fonfamentale, perché grazie alla sua potenza, con semplicità riusciamo a raccogliere una grandissima quantità di pacchetti catturati da wireshark per poi incanalarli in molteplici output tra cui Kafka per lo streaming e stdout per avere una sorta di log."
   ],
   "metadata": {
    "slideshow": {
     "slide_type": "fragment"
    }
   }
  },
  {
   "cell_type": "markdown",
   "source": [
    "Inoltre con Logstash si ha la possibilità di filtare ed arricchire i dati in ingresso.\n",
    "Nel nostro caso abbiamo aggiunto il filtro geoip per ottenere latitudine e longitudine di un ip."
   ],
   "metadata": {
    "slideshow": {
     "slide_type": "fragment"
    }
   }
  },
  {
   "cell_type": "code",
   "execution_count": null,
   "source": [
    "input {\n",
    "  file {\n",
    "    path => \"/usr/share/logstash/pcap/pcap.csv\"\n",
    "    start_position => \"beginning\"\n",
    "  }\n",
    "}\n",
    "\n",
    "filter {\n",
    "  csv {\n",
    "    source => \"message\"\n",
    "    columns => [ \"timestamp\", \"ip_src\", \"hostname\", \"port\"]\n",
    "  }\n",
    "  \n",
    "  date {\n",
    "    match => [ \"timestamp\", \"UNIX\" ]\n",
    "  } \n",
    "  geoip {\n",
    "    source => \"hostname\"\n",
    "    fields => [\"dma_code\", \"continent_code\",\"country_name\",\"city_name\",\"country_code2\",\"location\",\"ip\",\"region_name\"] \n",
    "  }\n",
    "  dns {\n",
    "    reverse => [ \"hostname\" ]\n",
    "    action => \"replace\"\n",
    "  }\n",
    "\n",
    "  mutate {\n",
    "    convert => [ \"port\", \"integer\" ]\n",
    "    remove_field => [\"timestamp\", \"@version\", \"message\", \"host\", \"path\"]\n",
    "  }\n",
    "}\n",
    "\n",
    "output {\n",
    "  kafka {\n",
    "    codec => json\n",
    "    topic_id => \"tap\"\n",
    "    bootstrap_servers => \"kafkaserver:9092\"\n",
    "  }\n",
    "  stdout {}\n",
    "}"
   ],
   "outputs": [],
   "metadata": {}
  },
  {
   "cell_type": "markdown",
   "source": [
    "<img style=\"float: left;\" src=\"images/kafka3.png\" width=\"60%\"> "
   ],
   "metadata": {
    "slideshow": {
     "slide_type": "slide"
    }
   }
  },
  {
   "cell_type": "markdown",
   "source": [
    "Apache Kafka è una piattaforma open-source di streaming di eventi distribuiti utilizzata da migliaia di aziende per pipeline di dati ad alte prestazioni, analisi in streaming, integrazione dei dati e applicazioni mission-critical."
   ],
   "metadata": {
    "slideshow": {
     "slide_type": "slide"
    }
   }
  },
  {
   "cell_type": "markdown",
   "source": [
    "L'utilizzo di Kafka è fondamentale per mettere in comunicazione Logstash e Spark."
   ],
   "metadata": {
    "slideshow": {
     "slide_type": "fragment"
    }
   }
  },
  {
   "cell_type": "markdown",
   "source": [
    "Abbiamo utilizzato anche Kafka UI per accertarci che la pipeline funzionasse."
   ],
   "metadata": {
    "slideshow": {
     "slide_type": "fragment"
    }
   }
  },
  {
   "cell_type": "markdown",
   "source": [
    "<img style=\"float: left;\" src=\"images/meme2.jpg\" width=\"25%\"> "
   ],
   "metadata": {
    "slideshow": {
     "slide_type": "subslide"
    }
   }
  },
  {
   "cell_type": "markdown",
   "source": [
    "<img style=\"float: left;\" src=\"images/spark.png\" width=\"60%\"> "
   ],
   "metadata": {
    "slideshow": {
     "slide_type": "slide"
    }
   }
  },
  {
   "cell_type": "markdown",
   "source": [
    "## Lightning-fast unified analytics engine"
   ],
   "metadata": {
    "slideshow": {
     "slide_type": "slide"
    }
   }
  },
  {
   "cell_type": "markdown",
   "source": [
    "### Speed\n",
    "Esegui i carichi di lavoro 100 volte più velocemente. Apache Spark raggiunge alte prestazioni sia per i dati in batch che in streaming, utilizzando uno scheduler DAG all'avanguardia, un ottimizzatore di query e un motore di esecuzione fisica."
   ],
   "metadata": {
    "slideshow": {
     "slide_type": "subslide"
    }
   }
  },
  {
   "cell_type": "markdown",
   "source": [
    "### Ease of Use\n",
    "Scrivi velocemente applicazioni in Java, Scala, Python, R e SQL. Spark offre oltre 80 operatori di alto livello che rendono facile costruire applicazioni parallele. E puoi usarlo interattivamente dalle shell di Scala, Python, R e SQL."
   ],
   "metadata": {
    "slideshow": {
     "slide_type": "fragment"
    }
   }
  },
  {
   "cell_type": "markdown",
   "source": [
    "### Generality\n",
    "Combina SQL, streaming e analisi complesse.\n",
    "### Runs Everywhere"
   ],
   "metadata": {
    "slideshow": {
     "slide_type": "fragment"
    }
   }
  },
  {
   "cell_type": "markdown",
   "source": [
    "# Ease of use?!?!\n",
    "<img style=\"float: left;\" src=\"images/meme3.jpg\" width=\"40%\"> "
   ],
   "metadata": {
    "slideshow": {
     "slide_type": "subslide"
    }
   }
  },
  {
   "cell_type": "markdown",
   "source": [
    "# Machine Learning in Spark"
   ],
   "metadata": {
    "slideshow": {
     "slide_type": "subslide"
    }
   }
  },
  {
   "cell_type": "markdown",
   "source": [
    "<img style=\"float: left;\" src=\"images/meme4.jpg\" width=\"30%\"> "
   ],
   "metadata": {
    "slideshow": {
     "slide_type": "subslide"
    }
   }
  },
  {
   "cell_type": "markdown",
   "source": [
    "Per la predizione dei pacchetti ci siamo affidati ai DataFrame di pandas e al regressore lineare della libreria Scikit-Learn."
   ],
   "metadata": {
    "slideshow": {
     "slide_type": "subslide"
    }
   }
  },
  {
   "cell_type": "markdown",
   "source": [
    "<img style=\"float: left;\" src=\"images/elastic2.png\"> "
   ],
   "metadata": {
    "slideshow": {
     "slide_type": "slide"
    }
   }
  },
  {
   "cell_type": "markdown",
   "source": [
    "Elasticsearch è un motore di ricerca e analisi distribuito e RESTful. Come cuore dell'Elastic Stack, memorizza centralmente una grande quantità di dati pur garantendo una ricerca veloce come un fulmine, una pertinenza regolata con precisione e potenti analisi che si scalano con facilità."
   ],
   "metadata": {
    "slideshow": {
     "slide_type": "slide"
    }
   }
  },
  {
   "cell_type": "markdown",
   "source": [
    "<img style=\"float: left;\" src=\"images/kibana.png\"> "
   ],
   "metadata": {
    "slideshow": {
     "slide_type": "slide"
    }
   }
  },
  {
   "cell_type": "markdown",
   "source": [
    "## La tua finestra sull'Elastic Stack"
   ],
   "metadata": {
    "slideshow": {
     "slide_type": "slide"
    }
   }
  },
  {
   "cell_type": "markdown",
   "source": [
    "Kibana è un'interfaccia utente gratuita e aperta che ti permette di visualizzare i tuoi dati Elasticsearch e navigare nell'Elastic Stack. Fai qualsiasi cosa, dal monitoraggio del carico delle query alla comprensione del modo in cui le richieste fluiscono attraverso le tue app."
   ],
   "metadata": {
    "slideshow": {
     "slide_type": "fragment"
    }
   }
  },
  {
   "cell_type": "markdown",
   "source": [
    "Nel nostro caso Kibana è fondamentale per la visualizzazione di una mappa dettagliata con le posizioni geografiche dei vari ip e anche per la visualizzazione delle predizioni sul numero dei pacchetti futuri."
   ],
   "metadata": {
    "slideshow": {
     "slide_type": "fragment"
    }
   }
  },
  {
   "cell_type": "markdown",
   "source": [
    "# DEMO"
   ],
   "metadata": {
    "slideshow": {
     "slide_type": "slide"
    }
   }
  },
  {
   "cell_type": "markdown",
   "source": [
    "Per avviare la demo bisogna:\n",
    "\n",
    " - Uppare il docker-compose\n",
    " - Avviare lo script run.sh che si trova all'interno della cartella logstash"
   ],
   "metadata": {
    "slideshow": {
     "slide_type": "fragment"
    }
   }
  },
  {
   "cell_type": "markdown",
   "source": [
    "Link utili:\n",
    " \n",
    " - http://localhost:5601 (Kibana)\n",
    " - http://localhost:8080 (Kafka-UI)\n",
    " - http://localhost:4040 (Spark)"
   ],
   "metadata": {
    "slideshow": {
     "slide_type": "fragment"
    }
   }
  },
  {
   "cell_type": "markdown",
   "source": [
    "# Ringraziamenti"
   ],
   "metadata": {
    "slideshow": {
     "slide_type": "slide"
    }
   }
  },
  {
   "cell_type": "markdown",
   "source": [
    "<img style=\"float: left;\" src=\"images/meme5.jpg\" width=\"40%\"> \n",
    "<img style=\"float: right;\" src=\"images/meme6.jpg\" width=\"37%\"> "
   ],
   "metadata": {
    "slideshow": {
     "slide_type": "fragment"
    }
   }
  },
  {
   "cell_type": "markdown",
   "source": [
    "<center><h1>FINE</h1></center>\n",
    "\n",
    "###### Credits: Simone Benedetto, Valerio Catania."
   ],
   "metadata": {
    "slideshow": {
     "slide_type": "subslide"
    }
   }
  }
 ],
 "metadata": {
  "celltoolbar": "Slideshow",
  "kernelspec": {
   "display_name": "Python 3 (ipykernel)",
   "language": "python",
   "name": "python3"
  },
  "language_info": {
   "codemirror_mode": {
    "name": "ipython",
    "version": 3
   },
   "file_extension": ".py",
   "mimetype": "text/x-python",
   "name": "python",
   "nbconvert_exporter": "python",
   "pygments_lexer": "ipython3",
   "version": "3.9.5"
  },
  "rise": {
   "theme": "serif"
  }
 },
 "nbformat": 4,
 "nbformat_minor": 5
}